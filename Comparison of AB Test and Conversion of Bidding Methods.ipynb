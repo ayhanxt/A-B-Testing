{
 "cells": [
  {
   "cell_type": "code",
   "execution_count": 10,
   "id": "a4824143",
   "metadata": {},
   "outputs": [],
   "source": [
    "### WORK ISSUE ###\n",
    "\n",
    "#Facebook recently introduced a new bidding type, \n",
    "#'average bidding', as an alternative to the existing bidding type called 'maximum bidding'.\n",
    "\n",
    "#One of our clients, bombabomba.com, decided to test this new feature and would like to do an A/B test\n",
    "#to see if average bidding converts more than maximum bidding.\n",
    "\n",
    "#The A/B test has been going on for 1 month and bombabomba.com is now waiting for you to analyze \n",
    "#the results of this A/B test. The ultimate success criterion for Bombabomba.com is Purchase. \n",
    "#Therefore, the focus should be on the Purchase metric for statistical testing.\n",
    "\n"
   ]
  },
  {
   "cell_type": "code",
   "execution_count": 9,
   "id": "d010d5c3",
   "metadata": {},
   "outputs": [
    {
     "name": "stdout",
     "output_type": "stream",
     "text": [
      "Requirement already satisfied: statsmodels in c:\\users\\pc\\anaconda3\\lib\\site-packages (0.13.2)\n",
      "Requirement already satisfied: numpy>=1.17 in c:\\users\\pc\\anaconda3\\lib\\site-packages (from statsmodels) (1.21.5)\n",
      "Requirement already satisfied: scipy>=1.3 in c:\\users\\pc\\anaconda3\\lib\\site-packages (from statsmodels) (1.7.3)\n",
      "Requirement already satisfied: pandas>=0.25 in c:\\users\\pc\\anaconda3\\lib\\site-packages (from statsmodels) (1.4.2)\n",
      "Requirement already satisfied: patsy>=0.5.2 in c:\\users\\pc\\anaconda3\\lib\\site-packages (from statsmodels) (0.5.2)\n",
      "Requirement already satisfied: packaging>=21.3 in c:\\users\\pc\\anaconda3\\lib\\site-packages (from statsmodels) (21.3)\n",
      "Requirement already satisfied: pyparsing!=3.0.5,>=2.0.2 in c:\\users\\pc\\anaconda3\\lib\\site-packages (from packaging>=21.3->statsmodels) (3.0.4)\n",
      "Requirement already satisfied: pytz>=2020.1 in c:\\users\\pc\\anaconda3\\lib\\site-packages (from pandas>=0.25->statsmodels) (2021.3)\n",
      "Requirement already satisfied: python-dateutil>=2.8.1 in c:\\users\\pc\\anaconda3\\lib\\site-packages (from pandas>=0.25->statsmodels) (2.8.2)\n",
      "Requirement already satisfied: six in c:\\users\\pc\\anaconda3\\lib\\site-packages (from patsy>=0.5.2->statsmodels) (1.16.0)\n"
     ]
    }
   ],
   "source": [
    "import itertools\n",
    "import numpy as np\n",
    "import pandas as pd\n",
    "import matplotlib.pyplot as plt\n",
    "import seaborn as sns\n",
    "!pip install statsmodels\n",
    "import statsmodels.stats.api as sms\n",
    "from scipy.stats import ttest_1samp, shapiro, levene, ttest_ind, mannwhitneyu, \\\n",
    "    pearsonr, spearmanr, kendalltau, f_oneway, kruskal\n",
    "from statsmodels.stats.proportion import proportions_ztest\n",
    "\n",
    "pd.set_option('display.max_columns', None)\n",
    "pd.set_option('display.max_rows', 10)\n",
    "pd.set_option('display.float_format', lambda x: '%.5f' % x)"
   ]
  },
  {
   "cell_type": "code",
   "execution_count": 3,
   "id": "818c4921",
   "metadata": {},
   "outputs": [],
   "source": [
    "df_control = pd.read_excel(r\"C:\\Users\\PC\\Desktop\\Miuul_VBO\\6. Hafta\\Odev_Dataset\\ab_testing.xlsx\" , sheet_name=\"Control Group\")\n",
    "df_test = pd.read_excel(r\"C:\\Users\\PC\\Desktop\\Miuul_VBO\\6. Hafta\\Odev_Dataset\\ab_testing.xlsx\" , sheet_name=\"Test Group\")"
   ]
  },
  {
   "cell_type": "code",
   "execution_count": 4,
   "id": "92889148",
   "metadata": {},
   "outputs": [],
   "source": [
    "df_control[\"Group\"] = \"Control\"\n",
    "df_test[\"Group\"] = \"Test\""
   ]
  },
  {
   "cell_type": "code",
   "execution_count": 5,
   "id": "a2f8bf25",
   "metadata": {},
   "outputs": [],
   "source": [
    "df = pd.concat([df_control, df_test], axis=0,ignore_index=False)"
   ]
  },
  {
   "cell_type": "code",
   "execution_count": 6,
   "id": "fc99fcb3",
   "metadata": {},
   "outputs": [
    {
     "name": "stderr",
     "output_type": "stream",
     "text": [
      "C:\\Users\\PC\\AppData\\Local\\Temp\\ipykernel_14904\\3212792838.py:1: FutureWarning: Indexing with multiple keys (implicitly converted to a tuple of keys) will be deprecated, use a list instead.\n",
      "  df.groupby(\"Group\")[\"Purchase\",\"Click\",\"Impression\",\"Earning\"].agg([\"mean\",\"min\",\"max\",\"sum\",\"median\"]).T\n"
     ]
    },
    {
     "data": {
      "text/html": [
       "<div>\n",
       "<style scoped>\n",
       "    .dataframe tbody tr th:only-of-type {\n",
       "        vertical-align: middle;\n",
       "    }\n",
       "\n",
       "    .dataframe tbody tr th {\n",
       "        vertical-align: top;\n",
       "    }\n",
       "\n",
       "    .dataframe thead th {\n",
       "        text-align: right;\n",
       "    }\n",
       "</style>\n",
       "<table border=\"1\" class=\"dataframe\">\n",
       "  <thead>\n",
       "    <tr style=\"text-align: right;\">\n",
       "      <th></th>\n",
       "      <th>Group</th>\n",
       "      <th>Control</th>\n",
       "      <th>Test</th>\n",
       "    </tr>\n",
       "  </thead>\n",
       "  <tbody>\n",
       "    <tr>\n",
       "      <th rowspan=\"5\" valign=\"top\">Purchase</th>\n",
       "      <th>mean</th>\n",
       "      <td>550.89406</td>\n",
       "      <td>582.10610</td>\n",
       "    </tr>\n",
       "    <tr>\n",
       "      <th>min</th>\n",
       "      <td>267.02894</td>\n",
       "      <td>311.62952</td>\n",
       "    </tr>\n",
       "    <tr>\n",
       "      <th>max</th>\n",
       "      <td>801.79502</td>\n",
       "      <td>889.91046</td>\n",
       "    </tr>\n",
       "    <tr>\n",
       "      <th>sum</th>\n",
       "      <td>22035.76235</td>\n",
       "      <td>23284.24387</td>\n",
       "    </tr>\n",
       "    <tr>\n",
       "      <th>median</th>\n",
       "      <td>531.20631</td>\n",
       "      <td>551.35573</td>\n",
       "    </tr>\n",
       "    <tr>\n",
       "      <th>...</th>\n",
       "      <th>...</th>\n",
       "      <td>...</td>\n",
       "      <td>...</td>\n",
       "    </tr>\n",
       "    <tr>\n",
       "      <th rowspan=\"5\" valign=\"top\">Earning</th>\n",
       "      <th>mean</th>\n",
       "      <td>1908.56830</td>\n",
       "      <td>2514.89073</td>\n",
       "    </tr>\n",
       "    <tr>\n",
       "      <th>min</th>\n",
       "      <td>1253.98952</td>\n",
       "      <td>1939.61124</td>\n",
       "    </tr>\n",
       "    <tr>\n",
       "      <th>max</th>\n",
       "      <td>2497.29522</td>\n",
       "      <td>3171.48971</td>\n",
       "    </tr>\n",
       "    <tr>\n",
       "      <th>sum</th>\n",
       "      <td>76342.73199</td>\n",
       "      <td>100595.62931</td>\n",
       "    </tr>\n",
       "    <tr>\n",
       "      <th>median</th>\n",
       "      <td>1975.16052</td>\n",
       "      <td>2544.66611</td>\n",
       "    </tr>\n",
       "  </tbody>\n",
       "</table>\n",
       "<p>20 rows × 2 columns</p>\n",
       "</div>"
      ],
      "text/plain": [
       "Group               Control         Test\n",
       "Purchase mean     550.89406    582.10610\n",
       "         min      267.02894    311.62952\n",
       "         max      801.79502    889.91046\n",
       "         sum    22035.76235  23284.24387\n",
       "         median   531.20631    551.35573\n",
       "...                     ...          ...\n",
       "Earning  mean    1908.56830   2514.89073\n",
       "         min     1253.98952   1939.61124\n",
       "         max     2497.29522   3171.48971\n",
       "         sum    76342.73199 100595.62931\n",
       "         median  1975.16052   2544.66611\n",
       "\n",
       "[20 rows x 2 columns]"
      ]
     },
     "execution_count": 6,
     "metadata": {},
     "output_type": "execute_result"
    }
   ],
   "source": [
    "df.groupby(\"Group\")[\"Purchase\",\"Click\",\"Impression\",\"Earning\"].agg([\"mean\",\"min\",\"max\",\"sum\",\"median\"]).T"
   ]
  },
  {
   "cell_type": "code",
   "execution_count": 7,
   "id": "d9b6aa45",
   "metadata": {},
   "outputs": [],
   "source": [
    "def AB_Test(dataframe, group, target):\n",
    "\n",
    "    # Necessary packages\n",
    "    from scipy.stats import shapiro\n",
    "    import scipy.stats as stats\n",
    "\n",
    "    # # Split A/B\n",
    "    control = dataframe[dataframe[group] == \"Control\"][target] #Old Design\n",
    "    test = dataframe[dataframe[group] == \"Test\"][target] #New Desing\n",
    "\n",
    "    # Assumption of the Normality \n",
    "    normality_control = shapiro(control)[1] < 0.05\n",
    "    normality_test = shapiro(test)[1] < 0.05\n",
    "\n",
    "    # H0: Data follow a normal distribution.- False\n",
    "    # H1: Data do not follow a normal distribution. - True\n",
    "\n",
    "    if (normality_control == False) & (normality_test == False):  # \"H0: Data follow a normal distribution\n",
    "        # Parametric Test\n",
    "        # Assumption: Homogeneity of variances\n",
    "\n",
    "        leveneTest = stats.levene(control, test)[1] < 0.05\n",
    "        # H0: Homogeneity: False\n",
    "        # H1: Heterogeneous: True\n",
    "\n",
    "        if leveneTest == False:\n",
    "            # Homogeneity\n",
    "            ttest = stats.ttest_ind(control, test, equal_var=True)[1] # Attention! equal_var=True\n",
    "            # H0: M1 == M2 - False\n",
    "            # H1: M1 != M2 - True\n",
    "        else:\n",
    "            # Heterogeneous\n",
    "            ttest = stats.ttest_ind(control, test, equal_var=False)[1] #Attention! equal_var=False\n",
    "            # H0: M1 == M2 - False\n",
    "            # H1: M1 != M2 - True\n",
    "    else:\n",
    "        # Non-Parametric Test\n",
    "        ttest = stats.mannwhitneyu(control, test)[1]\n",
    "        # H0: M1 == M2 - False\n",
    "        # H1: M1 != M2 - True\n",
    "\n",
    "    # Result\n",
    "    temp = pd.DataFrame({\n",
    "        \"AB Hypothesis\": [ttest < 0.05],\n",
    "        \"p-value\": [ttest]\n",
    "    })\n",
    "    temp[\"Test Type\"] = np.where((normality_control == False) & (normality_test == False), \"Parametric\", \"Non-Parametric\")\n",
    "    temp[\"AB Hypothesis\"] = np.where(temp[\"AB Hypothesis\"] == False, \"Fail to Reject H0\", \"Reject H0\")\n",
    "    temp[\"Comment\"] = np.where(temp[\"AB Hypothesis\"] == \"Fail to Reject H0\", \"A/B groups are similar!\",\n",
    "                               \"A/B groups are not similar!\")\n",
    "\n",
    "    # Columns\n",
    "    if (normality_control == False) & (normality_test == False):\n",
    "        temp[\"Homogeneity\"] = np.where(leveneTest == False, \"Yes\", \"No\")\n",
    "        temp = temp[[\"Test Type\", \"Homogeneity\", \"AB Hypothesis\", \"p-value\", \"Comment\"]]\n",
    "    else:\n",
    "        temp = temp[[\"Test Type\", \"AB Hypothesis\", \"p-value\", \"Comment\"]]\n",
    "\n",
    "    # Print Hypothesis\n",
    "    print(\"# A/B Testing Hypothesis\")\n",
    "    print(\"H0: A == B\")\n",
    "    print(\"H1: A != B\", \"\\n\")\n",
    "\n",
    "    return temp"
   ]
  },
  {
   "cell_type": "code",
   "execution_count": 8,
   "id": "0db4194d",
   "metadata": {},
   "outputs": [
    {
     "name": "stdout",
     "output_type": "stream",
     "text": [
      "# A/B Testing Hypothesis\n",
      "H0: A == B\n",
      "H1: A != B \n",
      "\n"
     ]
    },
    {
     "data": {
      "text/html": [
       "<div>\n",
       "<style scoped>\n",
       "    .dataframe tbody tr th:only-of-type {\n",
       "        vertical-align: middle;\n",
       "    }\n",
       "\n",
       "    .dataframe tbody tr th {\n",
       "        vertical-align: top;\n",
       "    }\n",
       "\n",
       "    .dataframe thead th {\n",
       "        text-align: right;\n",
       "    }\n",
       "</style>\n",
       "<table border=\"1\" class=\"dataframe\">\n",
       "  <thead>\n",
       "    <tr style=\"text-align: right;\">\n",
       "      <th></th>\n",
       "      <th>Test Type</th>\n",
       "      <th>Homogeneity</th>\n",
       "      <th>AB Hypothesis</th>\n",
       "      <th>p-value</th>\n",
       "      <th>Comment</th>\n",
       "    </tr>\n",
       "  </thead>\n",
       "  <tbody>\n",
       "    <tr>\n",
       "      <th>0</th>\n",
       "      <td>Parametric</td>\n",
       "      <td>Yes</td>\n",
       "      <td>Fail to Reject H0</td>\n",
       "      <td>0.34933</td>\n",
       "      <td>A/B groups are similar!</td>\n",
       "    </tr>\n",
       "  </tbody>\n",
       "</table>\n",
       "</div>"
      ],
      "text/plain": [
       "    Test Type Homogeneity      AB Hypothesis  p-value                  Comment\n",
       "0  Parametric         Yes  Fail to Reject H0  0.34933  A/B groups are similar!"
      ]
     },
     "execution_count": 8,
     "metadata": {},
     "output_type": "execute_result"
    }
   ],
   "source": [
    "# for purchase\n",
    "AB_Test(dataframe=df, group=\"Group\", target=\"Purchase\")"
   ]
  },
  {
   "cell_type": "code",
   "execution_count": null,
   "id": "16699d1a",
   "metadata": {},
   "outputs": [],
   "source": []
  }
 ],
 "metadata": {
  "kernelspec": {
   "display_name": "Python 3 (ipykernel)",
   "language": "python",
   "name": "python3"
  },
  "language_info": {
   "codemirror_mode": {
    "name": "ipython",
    "version": 3
   },
   "file_extension": ".py",
   "mimetype": "text/x-python",
   "name": "python",
   "nbconvert_exporter": "python",
   "pygments_lexer": "ipython3",
   "version": "3.9.12"
  }
 },
 "nbformat": 4,
 "nbformat_minor": 5
}
